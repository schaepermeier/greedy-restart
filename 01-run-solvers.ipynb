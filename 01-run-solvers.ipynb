{
 "cells": [
  {
   "cell_type": "markdown",
   "metadata": {},
   "source": [
    "# Run Individual Solvers for Data Collection"
   ]
  },
  {
   "cell_type": "code",
   "execution_count": 1,
   "metadata": {},
   "outputs": [],
   "source": [
    "import modcma\n",
    "from modcma import ModularCMAES\n",
    "import numpy as np\n",
    "import pandas as pd\n",
    "from ioh import problem\n",
    "import scipy.optimize\n",
    "from pathlib import Path\n",
    "\n",
    "import warnings\n",
    "# Filter out unwanted termination criteria warnings from modcma\n",
    "warnings.filterwarnings(module = \"modcma\", action = \"ignore\", message = \"Termination criteria met.*\")"
   ]
  },
  {
   "cell_type": "code",
   "execution_count": 2,
   "metadata": {},
   "outputs": [],
   "source": [
    "class FuncWrapped:\n",
    "    \"\"\"\n",
    "    Wrapper for optimization function for logging and early termination.\n",
    "    \"\"\"\n",
    "\n",
    "    def __init__(self, func, yopt, log10_targets):\n",
    "        self.fn = func\n",
    "        self.fevals = 0\n",
    "\n",
    "        self.targets = np.power(10, log10_targets)\n",
    "        self.next_target = max(self.targets)\n",
    "\n",
    "        self.hits = np.repeat(np.inf, len(self.targets))\n",
    "        self.unsolved_targets = sum(self.hits == np.inf)\n",
    "\n",
    "        self.yopt = yopt\n",
    "\n",
    "    def __call__(self, x):\n",
    "        if self.unsolved_targets == 0:\n",
    "            return self.yopt\n",
    "\n",
    "        self.fevals += 1\n",
    "        fi = self.fn(x)\n",
    "\n",
    "        gap = fi - self.yopt\n",
    "\n",
    "        if gap < self.next_target:\n",
    "            ts = np.logical_and(gap <= self.targets, self.hits == np.inf)\n",
    "            self.hits[ts] = self.fevals\n",
    "\n",
    "            self.unsolved_targets = sum(self.hits == np.inf)\n",
    "            if self.unsolved_targets > 0:\n",
    "                self.next_target = max(self.targets[self.hits == np.inf])\n",
    "            else:\n",
    "                self.next_target = 0\n",
    "        \n",
    "        return fi\n",
    "    \n",
    "    def get_hits_evals(self):\n",
    "        return (self.hits, self.fevals)"
   ]
  },
  {
   "cell_type": "code",
   "execution_count": 3,
   "metadata": {},
   "outputs": [],
   "source": [
    "def run_scipy(params, func, yopt, log10_targets):\n",
    "    func_wrapped = FuncWrapped(func, yopt, log10_targets)\n",
    "    scipy.optimize.minimize(func_wrapped, x0 = np.repeat(0, len(func.optimum.x)), **params)\n",
    "\n",
    "    hits, fevals = func_wrapped.get_hits_evals()\n",
    "\n",
    "    solved = hits < np.inf\n",
    "    evaluations = [int(min(hit, fevals)) for hit in hits]\n",
    "\n",
    "    df = pd.DataFrame()\n",
    "    df[\"log10_target\"] = log10_targets\n",
    "    df[\"solved\"] = solved\n",
    "    df[\"evaluations\"] = evaluations\n",
    "\n",
    "    return df"
   ]
  },
  {
   "cell_type": "code",
   "execution_count": 4,
   "metadata": {},
   "outputs": [],
   "source": [
    "def run_cma(params, func, yopt, log10_targets):\n",
    "    func_wrapped = FuncWrapped(func, yopt, log10_targets)\n",
    "    \n",
    "    dim = len(func.optimum.x)\n",
    "\n",
    "    cma = modcma.ModularCMAES(func_wrapped, d = dim, budget = 100_000 * dim,\n",
    "                              compute_termination_criteria = True, target = yopt + np.power(10, min(log10_targets)), **params)\n",
    "\n",
    "    while not (any(cma.break_conditions) or (\"local_restart\" not in params.keys() and any(cma.parameters.termination_criteria.values()))):\n",
    "        cma.step()\n",
    "\n",
    "    hits, fevals = func_wrapped.get_hits_evals()\n",
    "\n",
    "    solved = hits < np.inf\n",
    "    evaluations = [int(min(hit, fevals)) for hit in hits]\n",
    "\n",
    "    df = pd.DataFrame()\n",
    "    df[\"log10_target\"] = log10_targets\n",
    "    df[\"solved\"] = solved\n",
    "    df[\"evaluations\"] = evaluations\n",
    "\n",
    "    return df"
   ]
  },
  {
   "cell_type": "code",
   "execution_count": 5,
   "metadata": {},
   "outputs": [],
   "source": [
    "# Common setup\n",
    "log10_targets = np.linspace(2, -8, 51)\n",
    "\n",
    "# Common BBOB dimensions in 2-10\n",
    "dims = [2,3,5,10]\n",
    "\n",
    "# FIDs 1...24\n",
    "fids = range(1, 25)\n",
    "\n",
    "# IIDs 101...600\n",
    "iids = range(101,601)\n",
    "\n",
    "# One repetition per IID\n",
    "repetitions = range(1, 2)"
   ]
  },
  {
   "cell_type": "code",
   "execution_count": 6,
   "metadata": {},
   "outputs": [
    {
     "name": "stdout",
     "output_type": "stream",
     "text": [
      "FID: 12, IID: 137, ParamID: SLSQP          \r"
     ]
    },
    {
     "name": "stderr",
     "output_type": "stream",
     "text": [
      "/Users/lennartschapermeier/source/research/cma-rsmp/.conda/lib/python3.12/site-packages/scipy/optimize/_numdiff.py:590: RuntimeWarning: invalid value encountered in subtract\n",
      "  df = fun(x) - f0\n"
     ]
    },
    {
     "name": "stdout",
     "output_type": "stream",
     "text": [
      "FID: 12, IID: 179, ParamID: SLSQP          \r"
     ]
    },
    {
     "name": "stderr",
     "output_type": "stream",
     "text": [
      "/Users/lennartschapermeier/source/research/cma-rsmp/.conda/lib/python3.12/site-packages/scipy/optimize/_numdiff.py:590: RuntimeWarning: invalid value encountered in subtract\n",
      "  df = fun(x) - f0\n"
     ]
    },
    {
     "name": "stdout",
     "output_type": "stream",
     "text": [
      "FID: 12, IID: 512, ParamID: SLSQP          \r"
     ]
    },
    {
     "name": "stderr",
     "output_type": "stream",
     "text": [
      "/Users/lennartschapermeier/source/research/cma-rsmp/.conda/lib/python3.12/site-packages/scipy/optimize/_numdiff.py:590: RuntimeWarning: invalid value encountered in subtract\n",
      "  df = fun(x) - f0\n"
     ]
    },
    {
     "name": "stdout",
     "output_type": "stream",
     "text": [
      "FID: 24, IID: 600, ParamID: Powell         \r"
     ]
    }
   ],
   "source": [
    "for dim in dims:\n",
    "    \n",
    "    budget = 100_000 * dim\n",
    "    lambda_default = int(4 + np.floor(3 * np.log(dim)))\n",
    "\n",
    "    cma_configurations = {\n",
    "        # \"bipop\": {\"local_restart\": \"BIPOP\"},\n",
    "        # \"bipop-active\": {\"local_restart\": \"BIPOP\", \"active\": True},\n",
    "        \"default\": {},\n",
    "        \"2L\": {\"lambda_\": 2 * lambda_default},\n",
    "        \"4L\": {\"lambda_\": 4 * lambda_default},\n",
    "        \"8L\": {\"lambda_\": 8 * lambda_default},\n",
    "        \"16L\": {\"lambda_\": 16 * lambda_default},\n",
    "        \"32L\": {\"lambda_\": 32 * lambda_default},\n",
    "        \"64L\": {\"lambda_\": 64 * lambda_default},\n",
    "        # \"active\": {\"active\": True},\n",
    "        # \"elitist\": {\"elitist\": True},\n",
    "        # \"orthogonal\": {\"orthogonal\": True},\n",
    "        # # \"sequential\": {\"sequential\": True},\n",
    "        # # \"threshold_convergence\": {\"threshold_convergence\": True},\n",
    "        # # \"base_sampler_sobol\": {\"base_sampler\": \"sobol\"},\n",
    "        # \"mirrored\": {\"mirrored\": \"mirrored\"},\n",
    "        # # \"mirrored_pairwise\": {\"mirrored\": \"mirrored pairwise\"},\n",
    "    }\n",
    "\n",
    "    scipy_configurations = {\n",
    "        \"SLSQP\": {\"method\": \"SLSQP\"},\n",
    "        \"L-BFGS-B\": {\"method\": \"L-BFGS-B\"},\n",
    "        \"Powell\": {\"method\": \"Powell\"},\n",
    "    }\n",
    "\n",
    "    configurations = cma_configurations | scipy_configurations\n",
    "\n",
    "    for param_id, params in configurations.items():\n",
    "\n",
    "        for fid in fids:\n",
    "            dfs = []\n",
    "\n",
    "            for iid in iids:\n",
    "                print(f\"FID: {fid}, IID: {iid}, ParamID: {param_id:<15}\", end = \"\\r\")\n",
    "                # print(f\"FID: {fid}, IID: {iid}\", end = \"\\r\")\n",
    "\n",
    "                for rep in repetitions:\n",
    "                    np.random.seed(1_000_000 * fid + 1_000 * iid + rep)\n",
    "\n",
    "                    func = problem.BBOB.create(problem_id = fid, instance_id = iid, dimension = dim)\n",
    "                    \n",
    "                    if param_id in scipy_configurations.keys():\n",
    "                        df = run_scipy(params, func, func.optimum.y, log10_targets)\n",
    "                    else:\n",
    "                        df = run_cma(params, func, func.optimum.y, log10_targets)\n",
    "                    \n",
    "                    df[\"fid\"] = fid\n",
    "                    df[\"iid\"] = iid\n",
    "                    df[\"rep\"] = rep\n",
    "                    df[\"dim\"] = dim\n",
    "                    df[\"param_id\"] = param_id\n",
    "\n",
    "                    dfs.append(df)\n",
    "\n",
    "            fid_df = pd.concat(dfs)\n",
    "            csv_path = Path(f\"output-500/{dim}D/{param_id}/F{fid}_D{dim}.csv\")\n",
    "            if not csv_path.parent.exists():\n",
    "                csv_path.parent.mkdir(parents = True)\n",
    "            fid_df.to_csv(csv_path, float_format=\"%.1f\", index = False)"
   ]
  },
  {
   "cell_type": "markdown",
   "metadata": {},
   "source": [
    "# Test Individual CMA-ES Run"
   ]
  },
  {
   "cell_type": "code",
   "execution_count": 84,
   "metadata": {},
   "outputs": [
    {
     "name": "stdout",
     "output_type": "stream",
     "text": [
      "eval: 278400, delta: inf\n"
     ]
    }
   ],
   "source": [
    "budget = 100_000 * dim\n",
    "\n",
    "np.random.seed(0xC0FFEE)\n",
    "\n",
    "# cma = AskTellCMAES(dim, lambda_ = 640, budget=budget, compute_termination_criteria = True)\n",
    "cma = ModularCMAES(func, d = dim, lambda_ = 640, budget=budget, compute_termination_criteria = True)\n",
    "\n",
    "targets = np.power(10, np.linspace(2, -8, 51))\n",
    "hit = np.repeat(np.inf, 51)\n",
    "\n",
    "i = 0\n",
    "best_gap = np.inf\n",
    "\n",
    "while not (any(cma.break_conditions) or any(cma.parameters.termination_criteria.values())):\n",
    "   # i += 1\n",
    "   \n",
    "   # # Retrieve a single new candidate solution\n",
    "   # xi = cma.ask()\n",
    "\n",
    "   # # Evaluate the objective function\n",
    "   # fi = func(np.transpose(xi))[0]\n",
    "   # # Update the algorithm with the objective function value\n",
    "   # cma.tell(xi, fi)\n",
    "\n",
    "   # gap = fi - func.optimum.y\n",
    "\n",
    "   # if (gap < best_gap):\n",
    "   #    ts = np.logical_and(gap <= targets, np.logical_not(best_gap < targets))\n",
    "   #    hit[ts] = i\n",
    "   #    best_gap = gap\n",
    "\n",
    "   cma.step()\n",
    "\n",
    "print(f\"eval: {cma.parameters.used_budget}, delta: {cma.parameters.fopt - func.optimum.y}\")"
   ]
  },
  {
   "cell_type": "code",
   "execution_count": null,
   "metadata": {},
   "outputs": [],
   "source": []
  }
 ],
 "metadata": {
  "kernelspec": {
   "display_name": ".conda",
   "language": "python",
   "name": "python3"
  },
  "language_info": {
   "codemirror_mode": {
    "name": "ipython",
    "version": 3
   },
   "file_extension": ".py",
   "mimetype": "text/x-python",
   "name": "python",
   "nbconvert_exporter": "python",
   "pygments_lexer": "ipython3",
   "version": "3.12.3"
  }
 },
 "nbformat": 4,
 "nbformat_minor": 2
}
